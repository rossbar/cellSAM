{
  "cells": [
    {
      "cell_type": "markdown",
      "metadata": {},
      "source": [
        "\n# Electron Microscopy\n\nApplying the cellsam_pipeline to segment electron microscopy\nimages of bacteria.\n\nThis dataset comprises an electron microscope image of a bacterial\nbiofilm.\nThis FOV is downsampled from data provided by the\n`Newman Lab at Caltech`_; image credit Mark Ladinsky @ the Caltech\nCryoEM facility.\n\n"
      ]
    },
    {
      "cell_type": "code",
      "execution_count": null,
      "metadata": {
        "collapsed": false
      },
      "outputs": [],
      "source": [
        "import zarr\nimport skimage\nimport napari\nfrom cellSAM import cellsam_pipeline\n# NOTE: data is stored with zarr_format 3\nassert int(zarr.__version__[0]) > 2\n\n# Access EM image\nstore = zarr.storage.FsspecStore.from_url(\n    \"s3://cellsam-gallery-sample-data/sample-data.zarr\",\n    storage_options={\"anon\": True},\n    read_only=True,\n)\nz = zarr.open_group(store=store, mode=\"r\")\n# Load EM image into local memory\n# Limit to lower-right quadrant to reduce CI computation load\ntilesize = 512\nimg = z[\"biofilm_electron_microscopy\"][tilesize:, tilesize:]\nprint(img.shape)\n\n# Segment\nmask = cellsam_pipeline(img, use_wsi=False)\n\n# Visualize\nnim = napari.view_image(img, name=\"EMimage\");\nnim.add_labels(mask, name=\"Cellsam segmentation\");\n\nif __name__ == \"__main__\":\n    napari.run()"
      ]
    }
  ],
  "metadata": {
    "kernelspec": {
      "display_name": "Python 3",
      "language": "python",
      "name": "python3"
    },
    "language_info": {
      "codemirror_mode": {
        "name": "ipython",
        "version": 3
      },
      "file_extension": ".py",
      "mimetype": "text/x-python",
      "name": "python",
      "nbconvert_exporter": "python",
      "pygments_lexer": "ipython3",
      "version": "3.13.2"
    }
  },
  "nbformat": 4,
  "nbformat_minor": 0
}